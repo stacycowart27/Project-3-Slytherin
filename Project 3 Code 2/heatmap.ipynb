{
 "cells": [
  {
   "cell_type": "code",
   "execution_count": 1,
   "id": "f52c8320-f7e8-4689-a11b-d6a6fc150959",
   "metadata": {},
   "outputs": [],
   "source": [
    "import pandas as pd"
   ]
  },
  {
   "cell_type": "code",
   "execution_count": 2,
   "id": "a4c5af23-321b-4ae3-87b7-cd413029e52b",
   "metadata": {},
   "outputs": [],
   "source": [
    "# Load the data\n",
    "data = pd.read_csv('shark_attacks.csv')"
   ]
  },
  {
   "cell_type": "code",
   "execution_count": 3,
   "id": "0a7e3dcf-5f24-40ec-9a95-a7961a36835a",
   "metadata": {},
   "outputs": [
    {
     "name": "stdout",
     "output_type": "stream",
     "text": [
      "                        _id  index  id  Year        Type    Country  \\\n",
      "0  6696ff4dc10ca7acadf71537      0   0  2024  Unprovoked  AUSTRALIA   \n",
      "1  6696ff4dc10ca7acadf71538      1   1  2024  Unprovoked        USA   \n",
      "2  6696ff4dc10ca7acadf71539      2   2  2024  Unprovoked        USA   \n",
      "3  6696ff4dc10ca7acadf7153a      3   3  2024  Unprovoked  AUSTRALIA   \n",
      "4  6696ff4dc10ca7acadf7153b      4   4  2024  Unprovoked      INDIA   \n",
      "\n",
      "               State  Activity Sex  Age  \\\n",
      "0         Queensland  Swimming   F   13   \n",
      "1             Hawaii   Surfing   M  NaN   \n",
      "2             Hawaii  Swimming   F   11   \n",
      "3  Western Australia       NaN   F   46   \n",
      "4        Maharashtra   Fishing   M   32   \n",
      "\n",
      "                                     Injury  \n",
      "0  Minor injuries to back, abdomen and legs  \n",
      "1            No injury, shark bit surfboard  \n",
      "2                  Lacerations to left foot  \n",
      "3                                Leg bitten  \n",
      "4            Calf of lower left leg injured  \n"
     ]
    }
   ],
   "source": [
    "# Display the first few rows to understand the structure\n",
    "print(data.head())"
   ]
  },
  {
   "cell_type": "code",
   "execution_count": 4,
   "id": "7207c6b3-3473-4582-a82a-2be72e429502",
   "metadata": {},
   "outputs": [],
   "source": [
    "from geopy.geocoders import Nominatim\n",
    "import time"
   ]
  },
  {
   "cell_type": "code",
   "execution_count": 5,
   "id": "11c586bc-d054-4d45-8bce-e4badd15a8d0",
   "metadata": {},
   "outputs": [],
   "source": [
    "# Initialize geolocator\n",
    "geolocator = Nominatim(user_agent=\"shark_attack_heatmap\")"
   ]
  },
  {
   "cell_type": "code",
   "execution_count": 6,
   "id": "a61c5398-91f9-4d28-bdfd-3ae807c6a395",
   "metadata": {},
   "outputs": [],
   "source": [
    "# Function to geocode country and state\n",
    "def geocode_location(Country, State):\n",
    "    try:\n",
    "        location = geolocator.geocode(f\"{State}, {Country}\")\n",
    "        if location:\n",
    "            return location.latitude, location.longitude\n",
    "        else:\n",
    "            return None, None\n",
    "    except:\n",
    "        return None, None"
   ]
  },
  {
   "cell_type": "code",
   "execution_count": null,
   "id": "8909ff12-46c6-41a5-afcc-d654a96b50ef",
   "metadata": {},
   "outputs": [],
   "source": [
    "# Apply geocoding to each row with a delay to respect rate limits\n",
    "data['latitude'], data['longitude'] = zip(*data.apply(lambda row: geocode_location(row['Country'], row['State']) if pd.notnull(row['State']) and pd.notnull(row['Country']) else (None, None), axis=1))"
   ]
  },
  {
   "cell_type": "code",
   "execution_count": null,
   "id": "878acfd4-58bc-4fd6-827d-8887511d0bed",
   "metadata": {},
   "outputs": [],
   "source": [
    "# Remove rows where geocoding failed\n",
    "data = data.dropna(subset=['latitude', 'longitude'])\n",
    "\n",
    "# Display the updated data\n",
    "print(data.head())"
   ]
  },
  {
   "cell_type": "code",
   "execution_count": null,
   "id": "d9a13372-ea31-43d4-9967-a386da1c6f00",
   "metadata": {},
   "outputs": [],
   "source": [
    "# Aggregate data to count occurrences at each location\n",
    "location_counts = data.groupby(['latitude', 'longitude']).size().reset_index(name='count')\n",
    "\n",
    "# Display the aggregated data\n",
    "print(location_counts.head())"
   ]
  },
  {
   "cell_type": "code",
   "execution_count": null,
   "id": "45ed6739-91ef-45c7-b9dc-b82e4f551c63",
   "metadata": {},
   "outputs": [],
   "source": [
    "import folium\n",
    "from folium.plugins import HeatMap\n",
    "\n",
    "# Initialize the map centered around a specific location\n",
    "m = folium.Map(location=[0, 0], zoom_start=2)\n",
    "\n",
    "# Prepare data for HeatMap\n",
    "heat_data = [[row['latitude'], row['longitude'], row['count']] for index, row in location_counts.iterrows()]\n",
    "\n",
    "# Create and add heat map to the base map\n",
    "HeatMap(heat_data).add_to(m)\n",
    "\n",
    "# Save the map to an HTML file\n",
    "m.save('shark_attack_heat_map.html')"
   ]
  },
  {
   "cell_type": "code",
   "execution_count": null,
   "id": "35597bb6-6699-4ef3-b92c-b38837a2bd76",
   "metadata": {},
   "outputs": [],
   "source": [
    "import os\n",
    "import folium\n",
    "from folium.plugins import HeatMap\n",
    "\n",
    "# Get current directory of the notebook\n",
    "notebook_dir = os.path.abspath('')\n",
    "\n",
    "# Initialize the map centered around a specific location\n",
    "m = folium.Map(location=[0, 0], zoom_start=2)\n",
    "\n",
    "# Prepare data for HeatMap\n",
    "heat_data = [[row['latitude'], row['longitude'], row['count']] for index, row in location_counts.iterrows()]\n",
    "\n",
    "# Create and add heat map to the base map\n",
    "HeatMap(heat_data).add_to(m)\n",
    "\n",
    "# Save the map to an HTML file in the notebook's directory\n",
    "file_path = os.path.join(notebook_dir, 'shark_attack_heat_map.html')\n",
    "m.save(file_path)"
   ]
  },
  {
   "cell_type": "code",
   "execution_count": null,
   "id": "74db67eb-4256-403c-93f7-ae1793523059",
   "metadata": {},
   "outputs": [],
   "source": []
  }
 ],
 "metadata": {
  "kernelspec": {
   "display_name": "Python 3 (ipykernel)",
   "language": "python",
   "name": "python3"
  },
  "language_info": {
   "codemirror_mode": {
    "name": "ipython",
    "version": 3
   },
   "file_extension": ".py",
   "mimetype": "text/x-python",
   "name": "python",
   "nbconvert_exporter": "python",
   "pygments_lexer": "ipython3",
   "version": "3.12.2"
  }
 },
 "nbformat": 4,
 "nbformat_minor": 5
}
